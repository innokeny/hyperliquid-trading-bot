{
 "cells": [
  {
   "cell_type": "code",
   "execution_count": 4,
   "metadata": {},
   "outputs": [],
   "source": [
    "import os\n",
    "from typing import Optional, Tuple\n",
    "from eth_account import Account\n",
    "from eth_account.signers.local import LocalAccount\n",
    "from hyperliquid.exchange import Exchange\n",
    "from hyperliquid.info import Info\n",
    "from loguru import logger\n",
    "from src.config import settings\n",
    "\n",
    "from hyperliquid.utils.constants import TESTNET_API_URL"
   ]
  },
  {
   "cell_type": "code",
   "execution_count": 3,
   "metadata": {},
   "outputs": [],
   "source": [
    "account = None  \n",
    "address = None\n",
    "exchange = None\n",
    "info = None"
   ]
  },
  {
   "cell_type": "code",
   "execution_count": 5,
   "metadata": {},
   "outputs": [
    {
     "name": "stderr",
     "output_type": "stream",
     "text": [
      "\u001b[32m2025-04-22 23:49:14.176\u001b[0m | \u001b[1mINFO    \u001b[0m | \u001b[36m__main__\u001b[0m:\u001b[36m<module>\u001b[0m:\u001b[36m8\u001b[0m - \u001b[1mUsing agent address: 0xBa07d7280f9d997fE98D4DeF708622979E5601C3\u001b[0m\n",
      "\u001b[32m2025-04-22 23:49:17.033\u001b[0m | \u001b[32m\u001b[1mSUCCESS \u001b[0m | \u001b[36m__main__\u001b[0m:\u001b[36m<module>\u001b[0m:\u001b[36m14\u001b[0m - \u001b[32m\u001b[1mSuccessfully connected to Hyperliquid\u001b[0m\n"
     ]
    }
   ],
   "source": [
    "account = Account.from_key(settings.HYPERLIQUID_SECRET_KEY)\n",
    "address = settings.HYPERLIQUID_ACCOUNT_ADDRESS\n",
    "# Use account address if not specified\n",
    "if not address:\n",
    "    address = account.address\n",
    "    logger.info(f\"Using account address: {address}\")\n",
    "elif address != account.address:\n",
    "    logger.info(f\"Using agent address: {account.address}\")\n",
    "# Initialize Info and Exchange\n",
    "info = Info(TESTNET_API_URL or settings.HYPERLIQUID_API_URL, True)\n",
    "exchange = Exchange(account, TESTNET_API_URL or settings.HYPERLIQUID_API_URL, account_address=address)\n",
    "# Verify account has equity\n",
    "# _verify_account_equity()\n",
    "logger.success(\"Successfully connected to Hyperliquid\")"
   ]
  },
  {
   "cell_type": "code",
   "execution_count": 8,
   "metadata": {},
   "outputs": [
    {
     "data": {
      "text/plain": [
       "{'marginSummary': {'accountValue': '998.968955',\n",
       "  'totalNtlPos': '0.0',\n",
       "  'totalRawUsd': '998.968955',\n",
       "  'totalMarginUsed': '0.0'},\n",
       " 'crossMarginSummary': {'accountValue': '998.968955',\n",
       "  'totalNtlPos': '0.0',\n",
       "  'totalRawUsd': '998.968955',\n",
       "  'totalMarginUsed': '0.0'},\n",
       " 'crossMaintenanceMarginUsed': '0.0',\n",
       " 'withdrawable': '998.968955',\n",
       " 'assetPositions': [],\n",
       " 'time': 1745356556313}"
      ]
     },
     "execution_count": 8,
     "metadata": {},
     "output_type": "execute_result"
    }
   ],
   "source": [
    "info.user_state(address)"
   ]
  },
  {
   "cell_type": "code",
   "execution_count": 9,
   "metadata": {},
   "outputs": [
    {
     "data": {
      "text/plain": [
       "{'balances': []}"
      ]
     },
     "execution_count": 9,
     "metadata": {},
     "output_type": "execute_result"
    }
   ],
   "source": [
    "info.spot_user_state(address)"
   ]
  },
  {
   "cell_type": "code",
   "execution_count": null,
   "metadata": {},
   "outputs": [],
   "source": []
  },
  {
   "cell_type": "code",
   "execution_count": 6,
   "metadata": {},
   "outputs": [
    {
     "data": {
      "text/plain": [
       "{'marginSummary': {'accountValue': '998.968955',\n",
       "  'totalNtlPos': '0.0',\n",
       "  'totalRawUsd': '998.968955',\n",
       "  'totalMarginUsed': '0.0'},\n",
       " 'crossMarginSummary': {'accountValue': '998.968955',\n",
       "  'totalNtlPos': '0.0',\n",
       "  'totalRawUsd': '998.968955',\n",
       "  'totalMarginUsed': '0.0'},\n",
       " 'crossMaintenanceMarginUsed': '0.0',\n",
       " 'withdrawable': '998.968955',\n",
       " 'assetPositions': [],\n",
       " 'time': 1745354989736}"
      ]
     },
     "execution_count": 6,
     "metadata": {},
     "output_type": "execute_result"
    }
   ],
   "source": [
    "def _verify_account_equity(self) -> None:\n",
    "    \"\"\"Verify that the account has sufficient equity.\"\"\"\n",
    "    if not info or not address:\n",
    "        raise RuntimeError(\"Connection not established\")\n",
    "        \n",
    "    user_state = info.user_state(address)\n",
    "    spot_user_state = info.spot_user_state(address)\n",
    "    margin_summary = user_state[\"marginSummary\"]\n",
    "    \n",
    "    if float(margin_summary[\"accountValue\"]) == 0 and len(spot_user_state[\"balances\"]) == 0:\n",
    "        url = info.base_url.split(\".\", 1)[1]\n",
    "        error_msg = (\n",
    "            f\"No account value found.\\n\"\n",
    "            f\"If you think this is a mistake, make sure that {address} has a balance on {url}.\\n\"\n",
    "            f\"If the address shown is your API wallet address, update the config to specify the address \"\n",
    "            f\"of your account, not the address of the API wallet.\"\n",
    "        )\n",
    "        raise ValueError(error_msg)"
   ]
  },
  {
   "cell_type": "code",
   "execution_count": null,
   "metadata": {},
   "outputs": [],
   "source": []
  }
 ],
 "metadata": {
  "kernelspec": {
   "display_name": ".venv",
   "language": "python",
   "name": "python3"
  },
  "language_info": {
   "codemirror_mode": {
    "name": "ipython",
    "version": 3
   },
   "file_extension": ".py",
   "mimetype": "text/x-python",
   "name": "python",
   "nbconvert_exporter": "python",
   "pygments_lexer": "ipython3",
   "version": "3.12.3"
  }
 },
 "nbformat": 4,
 "nbformat_minor": 2
}
