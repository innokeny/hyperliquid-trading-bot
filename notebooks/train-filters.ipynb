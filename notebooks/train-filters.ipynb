{
 "cells": [
  {
   "cell_type": "code",
   "execution_count": 1,
   "id": "be109f5a",
   "metadata": {},
   "outputs": [],
   "source": [
    "import os\n",
    "import sys\n",
    "import pandas as pd\n",
    "import warnings\n",
    "import optuna\n",
    "import joblib\n",
    "warnings.filterwarnings(\"ignore\", category=RuntimeWarning)\n",
    "warnings.filterwarnings(\"ignore\", category=FutureWarning)\n",
    "warnings.filterwarnings(\"ignore\", category=UserWarning, message=\"X does not have valid feature names\")\n",
    "warnings.filterwarnings(\"ignore\", category=UserWarning, module='lightgbm')\n",
    "optuna.logging.set_verbosity(optuna.logging.WARNING)\n",
    "sys.path.append(os.path.dirname(os.getcwd()))\n",
    "\n",
    "from ml import Trainer, TrainArgs"
   ]
  },
  {
   "cell_type": "code",
   "execution_count": 2,
   "id": "ee904ff6",
   "metadata": {},
   "outputs": [],
   "source": [
    "binance_path = '../data/1d_timeframe/binance/binance_ETH_USDT_1d_20150427_20250427.csv'\n",
    "binance = pd.read_csv(binance_path, index_col='timestamp', parse_dates=True)\n",
    "\n",
    "bybit_path = '../data/1d_timeframe/bybit/bybit_ETH_USDT_1d_20150427_20250427.csv'\n",
    "bybit = pd.read_csv(bybit_path, index_col='timestamp', parse_dates=True)\n",
    "\n",
    "hyperliquid_path = '../data/1d_timeframe/hyperliquid/hyperliquid_ETH_USDT_1d_20150425_20250425.csv'\n",
    "hyperliquid = pd.read_csv(hyperliquid_path, index_col='timestamp', parse_dates=True)\n"
   ]
  },
  {
   "cell_type": "code",
   "execution_count": 3,
   "id": "29565e62",
   "metadata": {},
   "outputs": [],
   "source": [
    "def train(args, data, d):\n",
    "    trainer = Trainer(args)\n",
    "    models = trainer.train(data)\n",
    "    for window, model_dict in models.items():\n",
    "        path = os.path.join(d, f'model_{window}.joblib')\n",
    "        joblib.dump(model_dict, path)\n"
   ]
  },
  {
   "cell_type": "code",
   "execution_count": 4,
   "id": "1ff3a684",
   "metadata": {},
   "outputs": [],
   "source": [
    "args = TrainArgs(\n",
    "    LOOK_BACK_WINDOWS=[5, 10, 20, 30, 60],\n",
    "    TARGET_VOLATILITY=0.9,\n",
    "    HIGH_CORRELATION_THRESHOLD=.95,\n",
    "    ML_TRAIN_END_DATE=\"2023-01-01\",\n",
    "    ML_VALID_END_DATE=\"2024-01-01\",\n",
    "    N_CV_SPLITS=2,\n",
    "    FORWARD_LOOK_PERIOD=40\n",
    ")"
   ]
  },
  {
   "cell_type": "code",
   "execution_count": 10,
   "id": "fab6fc04",
   "metadata": {},
   "outputs": [
    {
     "data": {
      "application/vnd.jupyter.widget-view+json": {
       "model_id": "99d3983313d3441a8a5cab992f38a3c9",
       "version_major": 2,
       "version_minor": 0
      },
      "text/plain": [
       "  0%|          | 0/100 [00:00<?, ?it/s]"
      ]
     },
     "metadata": {},
     "output_type": "display_data"
    },
    {
     "name": "stdout",
     "output_type": "stream",
     "text": [
      "Evaluating on validation set to find threshold...\n",
      "\n",
      "--- Test Set Evaluation Metrics (Threshold = 0.4647) ---\n",
      "Accuracy:  0.3830\n",
      "Precision: 0.2258\n",
      "Recall:    0.5833\n",
      "F1 Score:  0.3256\n",
      "AUC:       0.4095\n",
      "Log Loss:  0.6934\n",
      "----------------------------------------------------\n",
      "--- ML Model Training Complete ---\n"
     ]
    },
    {
     "data": {
      "application/vnd.jupyter.widget-view+json": {
       "model_id": "3d07ee959bdd4eceb253472e30510c55",
       "version_major": 2,
       "version_minor": 0
      },
      "text/plain": [
       "  0%|          | 0/100 [00:00<?, ?it/s]"
      ]
     },
     "metadata": {},
     "output_type": "display_data"
    },
    {
     "name": "stdout",
     "output_type": "stream",
     "text": [
      "Evaluating on validation set to find threshold...\n",
      "\n",
      "--- Test Set Evaluation Metrics (Threshold = 0.5559) ---\n",
      "Accuracy:  0.7222\n",
      "Precision: 0.5000\n",
      "Recall:    0.8000\n",
      "F1 Score:  0.6154\n",
      "AUC:       0.7769\n",
      "Log Loss:  0.7127\n",
      "----------------------------------------------------\n",
      "--- ML Model Training Complete ---\n"
     ]
    },
    {
     "data": {
      "application/vnd.jupyter.widget-view+json": {
       "model_id": "a4eb91d8f0244591b3a9f6f9fe5032f3",
       "version_major": 2,
       "version_minor": 0
      },
      "text/plain": [
       "  0%|          | 0/100 [00:00<?, ?it/s]"
      ]
     },
     "metadata": {},
     "output_type": "display_data"
    },
    {
     "name": "stdout",
     "output_type": "stream",
     "text": [
      "Evaluating on validation set to find threshold...\n",
      "\n",
      "--- Test Set Evaluation Metrics (Threshold = 0.5708) ---\n",
      "Accuracy:  0.7500\n",
      "Precision: 0.3333\n",
      "Recall:    0.5000\n",
      "F1 Score:  0.4000\n",
      "AUC:       0.7750\n",
      "Log Loss:  0.7771\n",
      "----------------------------------------------------\n",
      "--- ML Model Training Complete ---\n"
     ]
    },
    {
     "data": {
      "application/vnd.jupyter.widget-view+json": {
       "model_id": "c4a655fafc264bddb3e4fa81e80f8e3e",
       "version_major": 2,
       "version_minor": 0
      },
      "text/plain": [
       "  0%|          | 0/100 [00:00<?, ?it/s]"
      ]
     },
     "metadata": {},
     "output_type": "display_data"
    },
    {
     "name": "stdout",
     "output_type": "stream",
     "text": [
      "Evaluating on validation set to find threshold...\n",
      "\n",
      "--- Test Set Evaluation Metrics (Threshold = 0.7143) ---\n",
      "Accuracy:  0.2857\n",
      "Precision: 0.2857\n",
      "Recall:    1.0000\n",
      "F1 Score:  0.4444\n",
      "AUC:       0.5000\n",
      "Log Loss:  0.9910\n",
      "----------------------------------------------------\n",
      "--- ML Model Training Complete ---\n"
     ]
    },
    {
     "data": {
      "application/vnd.jupyter.widget-view+json": {
       "model_id": "5ef4c90a289048eea4c275cedd485b6c",
       "version_major": 2,
       "version_minor": 0
      },
      "text/plain": [
       "  0%|          | 0/100 [00:00<?, ?it/s]"
      ]
     },
     "metadata": {},
     "output_type": "display_data"
    },
    {
     "name": "stdout",
     "output_type": "stream",
     "text": [
      "Evaluating on validation set to find threshold...\n",
      "\n",
      "--- Test Set Evaluation Metrics (Threshold = 0.5556) ---\n",
      "Accuracy:  0.6667\n",
      "Precision: 0.6667\n",
      "Recall:    1.0000\n",
      "F1 Score:  0.8000\n",
      "AUC:       0.5000\n",
      "Log Loss:  0.6622\n",
      "----------------------------------------------------\n",
      "--- ML Model Training Complete ---\n"
     ]
    }
   ],
   "source": [
    "train(args, binance, '../dump/binance')"
   ]
  },
  {
   "cell_type": "code",
   "execution_count": 11,
   "id": "40ffdfe4",
   "metadata": {},
   "outputs": [
    {
     "data": {
      "application/vnd.jupyter.widget-view+json": {
       "model_id": "a54d2399773e4e6bb8cb3735f04fadf7",
       "version_major": 2,
       "version_minor": 0
      },
      "text/plain": [
       "  0%|          | 0/100 [00:00<?, ?it/s]"
      ]
     },
     "metadata": {},
     "output_type": "display_data"
    },
    {
     "name": "stdout",
     "output_type": "stream",
     "text": [
      "Evaluating on validation set to find threshold...\n",
      "\n",
      "--- Test Set Evaluation Metrics (Threshold = 0.4269) ---\n",
      "Accuracy:  0.5745\n",
      "Precision: 0.0000\n",
      "Recall:    0.0000\n",
      "F1 Score:  0.0000\n",
      "AUC:       0.3726\n",
      "Log Loss:  0.6288\n",
      "----------------------------------------------------\n",
      "--- ML Model Training Complete ---\n"
     ]
    },
    {
     "data": {
      "application/vnd.jupyter.widget-view+json": {
       "model_id": "23debbca64824d91bc0467b21620fd80",
       "version_major": 2,
       "version_minor": 0
      },
      "text/plain": [
       "  0%|          | 0/100 [00:00<?, ?it/s]"
      ]
     },
     "metadata": {},
     "output_type": "display_data"
    },
    {
     "name": "stdout",
     "output_type": "stream",
     "text": [
      "Evaluating on validation set to find threshold...\n",
      "\n",
      "--- Test Set Evaluation Metrics (Threshold = 0.5388) ---\n",
      "Accuracy:  0.6667\n",
      "Precision: 0.4286\n",
      "Recall:    0.6000\n",
      "F1 Score:  0.5000\n",
      "AUC:       0.6692\n",
      "Log Loss:  0.6835\n",
      "----------------------------------------------------\n",
      "--- ML Model Training Complete ---\n"
     ]
    },
    {
     "data": {
      "application/vnd.jupyter.widget-view+json": {
       "model_id": "02402066941d4de287ef9897e3d26506",
       "version_major": 2,
       "version_minor": 0
      },
      "text/plain": [
       "  0%|          | 0/100 [00:00<?, ?it/s]"
      ]
     },
     "metadata": {},
     "output_type": "display_data"
    },
    {
     "name": "stdout",
     "output_type": "stream",
     "text": [
      "Evaluating on validation set to find threshold...\n",
      "\n",
      "--- Test Set Evaluation Metrics (Threshold = 0.6364) ---\n",
      "Accuracy:  0.1667\n",
      "Precision: 0.1667\n",
      "Recall:    1.0000\n",
      "F1 Score:  0.2857\n",
      "AUC:       0.5000\n",
      "Log Loss:  0.9183\n",
      "----------------------------------------------------\n",
      "--- ML Model Training Complete ---\n"
     ]
    },
    {
     "data": {
      "application/vnd.jupyter.widget-view+json": {
       "model_id": "2ffb5df2f28a4b5eac7aba306ce3c964",
       "version_major": 2,
       "version_minor": 0
      },
      "text/plain": [
       "  0%|          | 0/100 [00:00<?, ?it/s]"
      ]
     },
     "metadata": {},
     "output_type": "display_data"
    },
    {
     "name": "stdout",
     "output_type": "stream",
     "text": [
      "Evaluating on validation set to find threshold...\n",
      "\n",
      "--- Test Set Evaluation Metrics (Threshold = 0.7143) ---\n",
      "Accuracy:  0.2857\n",
      "Precision: 0.2857\n",
      "Recall:    1.0000\n",
      "F1 Score:  0.4444\n",
      "AUC:       0.5000\n",
      "Log Loss:  0.9910\n",
      "----------------------------------------------------\n",
      "--- ML Model Training Complete ---\n"
     ]
    },
    {
     "data": {
      "application/vnd.jupyter.widget-view+json": {
       "model_id": "a2a536fbd64549f8aa93bb113b96cad3",
       "version_major": 2,
       "version_minor": 0
      },
      "text/plain": [
       "  0%|          | 0/100 [00:00<?, ?it/s]"
      ]
     },
     "metadata": {},
     "output_type": "display_data"
    },
    {
     "name": "stdout",
     "output_type": "stream",
     "text": [
      "Evaluating on validation set to find threshold...\n",
      "\n",
      "--- Test Set Evaluation Metrics (Threshold = 0.4000) ---\n",
      "Accuracy:  0.6667\n",
      "Precision: 0.6667\n",
      "Recall:    1.0000\n",
      "F1 Score:  0.8000\n",
      "AUC:       0.5000\n",
      "Log Loss:  0.7811\n",
      "----------------------------------------------------\n",
      "--- ML Model Training Complete ---\n"
     ]
    }
   ],
   "source": [
    "train(args, bybit, '../dump/bybit')"
   ]
  },
  {
   "cell_type": "code",
   "execution_count": 5,
   "id": "31977f64",
   "metadata": {},
   "outputs": [
    {
     "data": {
      "application/vnd.jupyter.widget-view+json": {
       "model_id": "e331aa4e60d1463191a1370411657fef",
       "version_major": 2,
       "version_minor": 0
      },
      "text/plain": [
       "  0%|          | 0/100 [00:00<?, ?it/s]"
      ]
     },
     "metadata": {},
     "output_type": "display_data"
    },
    {
     "name": "stdout",
     "output_type": "stream",
     "text": [
      "Evaluating on validation set to find threshold...\n",
      "\n",
      "--- Test Set Evaluation Metrics (Threshold = 0.4459) ---\n",
      "Accuracy:  0.2553\n",
      "Precision: 0.2553\n",
      "Recall:    1.0000\n",
      "F1 Score:  0.4068\n",
      "AUC:       0.5000\n",
      "Log Loss:  0.6459\n",
      "----------------------------------------------------\n",
      "--- ML Model Training Complete ---\n"
     ]
    },
    {
     "data": {
      "application/vnd.jupyter.widget-view+json": {
       "model_id": "5d433fa1da0345578d285a327afa4d19",
       "version_major": 2,
       "version_minor": 0
      },
      "text/plain": [
       "  0%|          | 0/100 [00:00<?, ?it/s]"
      ]
     },
     "metadata": {},
     "output_type": "display_data"
    },
    {
     "name": "stdout",
     "output_type": "stream",
     "text": [
      "Evaluating on validation set to find threshold...\n",
      "\n",
      "--- Test Set Evaluation Metrics (Threshold = 0.5405) ---\n",
      "Accuracy:  0.2778\n",
      "Precision: 0.2778\n",
      "Recall:    1.0000\n",
      "F1 Score:  0.4348\n",
      "AUC:       0.5000\n",
      "Log Loss:  0.7326\n",
      "----------------------------------------------------\n",
      "--- ML Model Training Complete ---\n"
     ]
    },
    {
     "data": {
      "application/vnd.jupyter.widget-view+json": {
       "model_id": "ed3f0926f097446fb8dc4e5335e5401d",
       "version_major": 2,
       "version_minor": 0
      },
      "text/plain": [
       "  0%|          | 0/100 [00:00<?, ?it/s]"
      ]
     },
     "metadata": {},
     "output_type": "display_data"
    },
    {
     "name": "stdout",
     "output_type": "stream",
     "text": [
      "Evaluating on validation set to find threshold...\n",
      "\n",
      "--- Test Set Evaluation Metrics (Threshold = 0.5882) ---\n",
      "Accuracy:  0.1667\n",
      "Precision: 0.1667\n",
      "Recall:    1.0000\n",
      "F1 Score:  0.2857\n",
      "AUC:       0.5000\n",
      "Log Loss:  0.8279\n",
      "----------------------------------------------------\n",
      "--- ML Model Training Complete ---\n"
     ]
    },
    {
     "data": {
      "application/vnd.jupyter.widget-view+json": {
       "model_id": "a0081b1645e2421884902af8337fea0d",
       "version_major": 2,
       "version_minor": 0
      },
      "text/plain": [
       "  0%|          | 0/100 [00:00<?, ?it/s]"
      ]
     },
     "metadata": {},
     "output_type": "display_data"
    },
    {
     "name": "stdout",
     "output_type": "stream",
     "text": [
      "Evaluating on validation set to find threshold...\n",
      "\n",
      "--- Test Set Evaluation Metrics (Threshold = 0.8000) ---\n",
      "Accuracy:  0.2857\n",
      "Precision: 0.2857\n",
      "Recall:    1.0000\n",
      "F1 Score:  0.4444\n",
      "AUC:       0.5000\n",
      "Log Loss:  1.2134\n",
      "----------------------------------------------------\n",
      "--- ML Model Training Complete ---\n"
     ]
    },
    {
     "data": {
      "application/vnd.jupyter.widget-view+json": {
       "model_id": "a10f2b59fad84b77afb6c43f3e42b38e",
       "version_major": 2,
       "version_minor": 0
      },
      "text/plain": [
       "  0%|          | 0/100 [00:00<?, ?it/s]"
      ]
     },
     "metadata": {},
     "output_type": "display_data"
    },
    {
     "name": "stdout",
     "output_type": "stream",
     "text": [
      "Evaluating on validation set to find threshold...\n",
      "\n",
      "--- Test Set Evaluation Metrics (Threshold = 0.5714) ---\n",
      "Accuracy:  0.6667\n",
      "Precision: 0.6667\n",
      "Recall:    1.0000\n",
      "F1 Score:  0.8000\n",
      "AUC:       0.5000\n",
      "Log Loss:  0.6555\n",
      "----------------------------------------------------\n",
      "--- ML Model Training Complete ---\n"
     ]
    }
   ],
   "source": [
    "train(args, hyperliquid, '../dump/hyperliquid')"
   ]
  },
  {
   "cell_type": "code",
   "execution_count": null,
   "id": "b404a30a",
   "metadata": {},
   "outputs": [],
   "source": []
  }
 ],
 "metadata": {
  "kernelspec": {
   "display_name": ".venv",
   "language": "python",
   "name": "python3"
  },
  "language_info": {
   "codemirror_mode": {
    "name": "ipython",
    "version": 3
   },
   "file_extension": ".py",
   "mimetype": "text/x-python",
   "name": "python",
   "nbconvert_exporter": "python",
   "pygments_lexer": "ipython3",
   "version": "3.12.3"
  }
 },
 "nbformat": 4,
 "nbformat_minor": 5
}
